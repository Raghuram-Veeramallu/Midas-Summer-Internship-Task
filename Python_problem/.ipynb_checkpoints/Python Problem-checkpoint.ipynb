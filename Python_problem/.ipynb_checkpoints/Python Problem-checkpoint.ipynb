{
 "cells": [
  {
   "cell_type": "markdown",
   "metadata": {},
   "source": [
    "# Part 1: Extracting all tweets using Twitter API and dumping into JSONlines file"
   ]
  },
  {
   "cell_type": "markdown",
   "metadata": {},
   "source": [
    "Import libraries to extract tweets from Twitter and dump into JSONlines file.\n",
    "\n",
    "Tweepy helps to extract data easily and jsonlines to dump data into JSONlines file."
   ]
  },
  {
   "cell_type": "code",
   "execution_count": 42,
   "metadata": {},
   "outputs": [],
   "source": [
    "from tweepy import OAuthHandler\n",
    "import jsonlines"
   ]
  },
  {
   "cell_type": "markdown",
   "metadata": {},
   "source": [
    "Define Twitter Credentials"
   ]
  },
  {
   "cell_type": "code",
   "execution_count": 43,
   "metadata": {},
   "outputs": [],
   "source": [
    "access_token = \"\"\n",
    "access_token_secret = \"\"\n",
    "consumer_key = \"\"\n",
    "consumer_secret = \"\""
   ]
  },
  {
   "cell_type": "markdown",
   "metadata": {},
   "source": [
    "Establish Connection to Twitter using Tweepy and create entry point to perform operations"
   ]
  },
  {
   "cell_type": "code",
   "execution_count": 44,
   "metadata": {},
   "outputs": [],
   "source": [
    "# Establish connection with Twitter and create Entrypoint to perform operations using tweepy\n",
    "auth = OAuthHandler(consumer_key, consumer_secret)\n",
    "auth.set_access_token(access_token, access_token_secret)\n",
    "api = tweepy.API(auth)"
   ]
  },
  {
   "cell_type": "markdown",
   "metadata": {},
   "source": [
    "Extract data from the timeline of user @midasIIITD using tweepy Cursor\n",
    "\n",
    "Iterate through data and write them to JSONlines files in JSON format"
   ]
  },
  {
   "cell_type": "code",
   "execution_count": 45,
   "metadata": {},
   "outputs": [],
   "source": [
    "# Open 'tweets.jsonl' file to write the data\n",
    "with jsonlines.open('tweets.jsonl', mode='w') as writer:\n",
    "    # Iterate through tweet data obtained from Tweepy Cursor\n",
    "    for tweet in tweepy.Cursor(api.user_timeline, screen_name = '@midasIIITD').items():\n",
    "        #print(tweet._json)\n",
    "        # Write the data to file \n",
    "        writer.write(tweet._json)"
   ]
  },
  {
   "cell_type": "markdown",
   "metadata": {},
   "source": [
    "# Part 2: Parse this JSONlines file to display tweets in the required format"
   ]
  },
  {
   "cell_type": "markdown",
   "metadata": {},
   "source": [
    "Import additional libraries for classifing data and storing data in form of tables"
   ]
  },
  {
   "cell_type": "code",
   "execution_count": 19,
   "metadata": {},
   "outputs": [],
   "source": [
    "import pandas as pd\n",
    "import json"
   ]
  },
  {
   "cell_type": "markdown",
   "metadata": {},
   "source": [
    "Analyse the fields in the JSON file given by twitter API.\n",
    "\n",
    "Viewing the first entry."
   ]
  },
  {
   "cell_type": "code",
   "execution_count": 67,
   "metadata": {},
   "outputs": [
    {
     "name": "stdout",
     "output_type": "stream",
     "text": [
      "{\n",
      "  \"created_at\": \"Fri Apr 05 16:08:37 +0000 2019\",\n",
      "  \"id\": 1114198161562775553,\n",
      "  \"id_str\": \"1114198161562775553\",\n",
      "  \"text\": \"We have emailed the task details to all candidates who have applied to @midasIIITD internship through IIITD portal.\\u2026 https://t.co/gZwyr7D2Sw\",\n",
      "  \"truncated\": true,\n",
      "  \"entities\": {\n",
      "    \"hashtags\": [],\n",
      "    \"symbols\": [],\n",
      "    \"user_mentions\": [\n",
      "      {\n",
      "        \"screen_name\": \"midasIIITD\",\n",
      "        \"name\": \"MIDAS IIITD\",\n",
      "        \"id\": 1021355762575073281,\n",
      "        \"id_str\": \"1021355762575073281\",\n",
      "        \"indices\": [\n",
      "          71,\n",
      "          82\n",
      "        ]\n",
      "      }\n",
      "    ],\n",
      "    \"urls\": [\n",
      "      {\n",
      "        \"url\": \"https://t.co/gZwyr7D2Sw\",\n",
      "        \"expanded_url\": \"https://twitter.com/i/web/status/1114198161562775553\",\n",
      "        \"display_url\": \"twitter.com/i/web/status/1\\u2026\",\n",
      "        \"indices\": [\n",
      "          117,\n",
      "          140\n",
      "        ]\n",
      "      }\n",
      "    ]\n",
      "  },\n",
      "  \"source\": \"<a href=\\\"http://twitter.com\\\" rel=\\\"nofollow\\\">Twitter Web Client</a>\",\n",
      "  \"in_reply_to_status_id\": null,\n",
      "  \"in_reply_to_status_id_str\": null,\n",
      "  \"in_reply_to_user_id\": null,\n",
      "  \"in_reply_to_user_id_str\": null,\n",
      "  \"in_reply_to_screen_name\": null,\n",
      "  \"user\": {\n",
      "    \"id\": 1021355762575073281,\n",
      "    \"id_str\": \"1021355762575073281\",\n",
      "    \"name\": \"MIDAS IIITD\",\n",
      "    \"screen_name\": \"midasIIITD\",\n",
      "    \"location\": \"New Delhi, India\",\n",
      "    \"description\": \"MIDAS is a group of researchers at IIIT-Delhi who study, analyze, and build different multimedia systems for society leveraging multimodal information.\",\n",
      "    \"url\": \"https://t.co/Uwg7oSM6mE\",\n",
      "    \"entities\": {\n",
      "      \"url\": {\n",
      "        \"urls\": [\n",
      "          {\n",
      "            \"url\": \"https://t.co/Uwg7oSM6mE\",\n",
      "            \"expanded_url\": \"http://midas.iiitd.edu.in/\",\n",
      "            \"display_url\": \"midas.iiitd.edu.in\",\n",
      "            \"indices\": [\n",
      "              0,\n",
      "              23\n",
      "            ]\n",
      "          }\n",
      "        ]\n",
      "      },\n",
      "      \"description\": {\n",
      "        \"urls\": []\n",
      "      }\n",
      "    },\n",
      "    \"protected\": false,\n",
      "    \"followers_count\": 215,\n",
      "    \"friends_count\": 42,\n",
      "    \"listed_count\": 0,\n",
      "    \"created_at\": \"Mon Jul 23 11:26:04 +0000 2018\",\n",
      "    \"favourites_count\": 140,\n",
      "    \"utc_offset\": null,\n",
      "    \"time_zone\": null,\n",
      "    \"geo_enabled\": false,\n",
      "    \"verified\": false,\n",
      "    \"statuses_count\": 327,\n",
      "    \"lang\": \"en\",\n",
      "    \"contributors_enabled\": false,\n",
      "    \"is_translator\": false,\n",
      "    \"is_translation_enabled\": false,\n",
      "    \"profile_background_color\": \"F5F8FA\",\n",
      "    \"profile_background_image_url\": null,\n",
      "    \"profile_background_image_url_https\": null,\n",
      "    \"profile_background_tile\": false,\n",
      "    \"profile_image_url\": \"http://pbs.twimg.com/profile_images/1021356444921212928/WmSTJCUs_normal.jpg\",\n",
      "    \"profile_image_url_https\": \"https://pbs.twimg.com/profile_images/1021356444921212928/WmSTJCUs_normal.jpg\",\n",
      "    \"profile_banner_url\": \"https://pbs.twimg.com/profile_banners/1021355762575073281/1554320878\",\n",
      "    \"profile_link_color\": \"1DA1F2\",\n",
      "    \"profile_sidebar_border_color\": \"C0DEED\",\n",
      "    \"profile_sidebar_fill_color\": \"DDEEF6\",\n",
      "    \"profile_text_color\": \"333333\",\n",
      "    \"profile_use_background_image\": true,\n",
      "    \"has_extended_profile\": false,\n",
      "    \"default_profile\": true,\n",
      "    \"default_profile_image\": false,\n",
      "    \"following\": false,\n",
      "    \"follow_request_sent\": false,\n",
      "    \"notifications\": false,\n",
      "    \"translator_type\": \"none\"\n",
      "  },\n",
      "  \"geo\": null,\n",
      "  \"coordinates\": null,\n",
      "  \"place\": null,\n",
      "  \"contributors\": null,\n",
      "  \"is_quote_status\": false,\n",
      "  \"retweet_count\": 1,\n",
      "  \"favorite_count\": 5,\n",
      "  \"favorited\": false,\n",
      "  \"retweeted\": false,\n",
      "  \"lang\": \"en\"\n",
      "}\n"
     ]
    }
   ],
   "source": [
    "with jsonlines.open('tweets.jsonl') as reader:\n",
    "    for tweetObj in reader:\n",
    "        # json.dumps to understand the data\n",
    "        print(json.dumps(tweetObj, indent=2))\n",
    "        # View the first entry only the stop the reader\n",
    "        break"
   ]
  },
  {
   "cell_type": "markdown",
   "metadata": {},
   "source": [
    "Function to return the required fields for our table\n",
    "\n",
    "After Analysing the data I have realised that the retweeted tweets have their 'retweets' and 'likes' count in the 'retweeted_status' section, so I have extracted data accordingly"
   ]
  },
  {
   "cell_type": "code",
   "execution_count": 69,
   "metadata": {},
   "outputs": [],
   "source": [
    "def extractReqData(tweetObj):\n",
    "    # Num of Likes\n",
    "    fav = 0\n",
    "    # Num of Retweets\n",
    "    retw = 0\n",
    "    # Num of Images\n",
    "    img = None\n",
    "    \n",
    "    # If the tweet was retweeted then get likes, retweets from retweeted section\n",
    "    if ('retweeted_status' in tweetObj):\n",
    "        fav = tweetObj.get('retweeted_status').get('favorite_count')\n",
    "        retw = tweetObj.get('retweeted_status').get('retweet_count')\n",
    "    # If the tweet is not retweeted then get likes, retweets from regular section\n",
    "    else:\n",
    "        fav = tweetObj.get('favorite_count')\n",
    "        retw = tweetObj.get('retweet_count')\n",
    "        \n",
    "    # If the tweet has any image then count the number of images    \n",
    "    if (tweetObj.get('entities').get('media')):\n",
    "        img = len(tweetObj.get('entities').get('media'))\n",
    "            \n",
    "    # Get text and DateTime directly from tweet object.\n",
    "    # Create a list of all 5 fields and return it.\n",
    "    temp_obj = [tweetObj.get('text'), tweetObj.get('created_at'), fav, retw, img]\n",
    "    return temp_obj"
   ]
  },
  {
   "cell_type": "markdown",
   "metadata": {},
   "source": [
    "Extract 'Text', 'DateTime', '#Likes', '#Retweets' and '#Images' fields from each tweet object using 'extractReqData' function."
   ]
  },
  {
   "cell_type": "code",
   "execution_count": 70,
   "metadata": {},
   "outputs": [],
   "source": [
    "# Complete list of records : Master List\n",
    "data = []\n",
    "with jsonlines.open('tweets.jsonl') as reader:\n",
    "    for tweetObj in reader:\n",
    "        # Append the returned list to master list\n",
    "        data.append(extractReqData(tweetObj))"
   ]
  },
  {
   "cell_type": "markdown",
   "metadata": {},
   "source": [
    "Define columns and create table using the obtained data.\n",
    "\n",
    "Table is created using Pandas library"
   ]
  },
  {
   "cell_type": "code",
   "execution_count": 71,
   "metadata": {},
   "outputs": [],
   "source": [
    "table_columns = ['Tweet_Text', 'Tweet_Date_Time', 'Num_likes', 'Num_retweets', 'Num_images']\n",
    "table = pd.DataFrame(data, columns = table_columns)"
   ]
  },
  {
   "cell_type": "markdown",
   "metadata": {},
   "source": [
    "Display the table.."
   ]
  },
  {
   "cell_type": "code",
   "execution_count": 72,
   "metadata": {},
   "outputs": [
    {
     "data": {
      "text/html": [
       "<div>\n",
       "<style scoped>\n",
       "    .dataframe tbody tr th:only-of-type {\n",
       "        vertical-align: middle;\n",
       "    }\n",
       "\n",
       "    .dataframe tbody tr th {\n",
       "        vertical-align: top;\n",
       "    }\n",
       "\n",
       "    .dataframe thead th {\n",
       "        text-align: right;\n",
       "    }\n",
       "</style>\n",
       "<table border=\"1\" class=\"dataframe\">\n",
       "  <thead>\n",
       "    <tr style=\"text-align: right;\">\n",
       "      <th></th>\n",
       "      <th>Tweet_Text</th>\n",
       "      <th>Tweet_Date_Time</th>\n",
       "      <th>Num_likes</th>\n",
       "      <th>Num_retweets</th>\n",
       "      <th>Num_images</th>\n",
       "    </tr>\n",
       "  </thead>\n",
       "  <tbody>\n",
       "    <tr>\n",
       "      <th>0</th>\n",
       "      <td>We have emailed the task details to all candid...</td>\n",
       "      <td>Fri Apr 05 16:08:37 +0000 2019</td>\n",
       "      <td>5</td>\n",
       "      <td>1</td>\n",
       "      <td>NaN</td>\n",
       "    </tr>\n",
       "    <tr>\n",
       "      <th>1</th>\n",
       "      <td>RT @rfpvjr: Our NAACL paper on polarization in...</td>\n",
       "      <td>Fri Apr 05 04:05:11 +0000 2019</td>\n",
       "      <td>46</td>\n",
       "      <td>15</td>\n",
       "      <td>NaN</td>\n",
       "    </tr>\n",
       "    <tr>\n",
       "      <th>2</th>\n",
       "      <td>RT @kdnuggets: Effective Transfer Learning For...</td>\n",
       "      <td>Fri Apr 05 04:04:43 +0000 2019</td>\n",
       "      <td>19</td>\n",
       "      <td>10</td>\n",
       "      <td>1.0</td>\n",
       "    </tr>\n",
       "    <tr>\n",
       "      <th>3</th>\n",
       "      <td>RT @stanfordnlp: What’s new in @Stanford CS224...</td>\n",
       "      <td>Wed Apr 03 18:31:53 +0000 2019</td>\n",
       "      <td>221</td>\n",
       "      <td>55</td>\n",
       "      <td>NaN</td>\n",
       "    </tr>\n",
       "    <tr>\n",
       "      <th>4</th>\n",
       "      <td>RT @DeepMindAI: Today we're releasing a large-...</td>\n",
       "      <td>Wed Apr 03 17:04:32 +0000 2019</td>\n",
       "      <td>2329</td>\n",
       "      <td>837</td>\n",
       "      <td>NaN</td>\n",
       "    </tr>\n",
       "  </tbody>\n",
       "</table>\n",
       "</div>"
      ],
      "text/plain": [
       "                                          Tweet_Text  \\\n",
       "0  We have emailed the task details to all candid...   \n",
       "1  RT @rfpvjr: Our NAACL paper on polarization in...   \n",
       "2  RT @kdnuggets: Effective Transfer Learning For...   \n",
       "3  RT @stanfordnlp: What’s new in @Stanford CS224...   \n",
       "4  RT @DeepMindAI: Today we're releasing a large-...   \n",
       "\n",
       "                  Tweet_Date_Time  Num_likes  Num_retweets  Num_images  \n",
       "0  Fri Apr 05 16:08:37 +0000 2019          5             1         NaN  \n",
       "1  Fri Apr 05 04:05:11 +0000 2019         46            15         NaN  \n",
       "2  Fri Apr 05 04:04:43 +0000 2019         19            10         1.0  \n",
       "3  Wed Apr 03 18:31:53 +0000 2019        221            55         NaN  \n",
       "4  Wed Apr 03 17:04:32 +0000 2019       2329           837         NaN  "
      ]
     },
     "execution_count": 72,
     "metadata": {},
     "output_type": "execute_result"
    }
   ],
   "source": [
    "table.head()"
   ]
  },
  {
   "cell_type": "markdown",
   "metadata": {},
   "source": [
    "Store the table in a CSV file"
   ]
  },
  {
   "cell_type": "code",
   "execution_count": 73,
   "metadata": {},
   "outputs": [],
   "source": [
    "table.to_csv(r'twitter_tweets.csv')"
   ]
  },
  {
   "cell_type": "code",
   "execution_count": null,
   "metadata": {},
   "outputs": [],
   "source": []
  }
 ],
 "metadata": {
  "kernelspec": {
   "display_name": "Python 3",
   "language": "python",
   "name": "python3"
  },
  "language_info": {
   "codemirror_mode": {
    "name": "ipython",
    "version": 3
   },
   "file_extension": ".py",
   "mimetype": "text/x-python",
   "name": "python",
   "nbconvert_exporter": "python",
   "pygments_lexer": "ipython3",
   "version": "3.6.4"
  }
 },
 "nbformat": 4,
 "nbformat_minor": 2
}
