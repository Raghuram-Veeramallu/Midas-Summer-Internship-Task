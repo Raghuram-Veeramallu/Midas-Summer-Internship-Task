{
 "cells": [
  {
   "cell_type": "markdown",
   "metadata": {},
   "source": [
    "# NLP Problem"
   ]
  },
  {
   "cell_type": "markdown",
   "metadata": {},
   "source": [
    "## Clean the data"
   ]
  },
  {
   "cell_type": "markdown",
   "metadata": {},
   "source": [
    "Import required libraries for read and clean the data "
   ]
  },
  {
   "cell_type": "code",
   "execution_count": 9,
   "metadata": {},
   "outputs": [],
   "source": [
    "import numpy as np\n",
    "import pandas as pd\n",
    "import nltk\n",
    "from nltk import FreqDist\n",
    "import re\n",
    "\n",
    "from nltk.corpus import stopwords\n",
    "import matplotlib.pyplot as plt\n",
    "import seaborn as sns"
   ]
  },
  {
   "cell_type": "markdown",
   "metadata": {},
   "source": [
    "Understand the training data"
   ]
  },
  {
   "cell_type": "code",
   "execution_count": 10,
   "metadata": {},
   "outputs": [
    {
     "data": {
      "text/html": [
       "<div>\n",
       "<style scoped>\n",
       "    .dataframe tbody tr th:only-of-type {\n",
       "        vertical-align: middle;\n",
       "    }\n",
       "\n",
       "    .dataframe tbody tr th {\n",
       "        vertical-align: top;\n",
       "    }\n",
       "\n",
       "    .dataframe thead th {\n",
       "        text-align: right;\n",
       "    }\n",
       "</style>\n",
       "<table border=\"1\" class=\"dataframe\">\n",
       "  <thead>\n",
       "    <tr style=\"text-align: right;\">\n",
       "      <th></th>\n",
       "      <th>id</th>\n",
       "      <th>sentence</th>\n",
       "      <th>prediction</th>\n",
       "    </tr>\n",
       "  </thead>\n",
       "  <tbody>\n",
       "    <tr>\n",
       "      <th>0</th>\n",
       "      <td>663_3</td>\n",
       "      <td>\"Please enable removing language code from the...</td>\n",
       "      <td>1</td>\n",
       "    </tr>\n",
       "    <tr>\n",
       "      <th>1</th>\n",
       "      <td>663_4</td>\n",
       "      <td>\"Note: in your .csproj file, there is a Suppor...</td>\n",
       "      <td>0</td>\n",
       "    </tr>\n",
       "    <tr>\n",
       "      <th>2</th>\n",
       "      <td>664_1</td>\n",
       "      <td>\"Wich means the new version not fully replaced...</td>\n",
       "      <td>0</td>\n",
       "    </tr>\n",
       "    <tr>\n",
       "      <th>3</th>\n",
       "      <td>664_2</td>\n",
       "      <td>\"Some of my users will still receive the old x...</td>\n",
       "      <td>0</td>\n",
       "    </tr>\n",
       "    <tr>\n",
       "      <th>4</th>\n",
       "      <td>664_3</td>\n",
       "      <td>\"The store randomly gives the old xap or the n...</td>\n",
       "      <td>0</td>\n",
       "    </tr>\n",
       "  </tbody>\n",
       "</table>\n",
       "</div>"
      ],
      "text/plain": [
       "      id                                           sentence  prediction\n",
       "0  663_3  \"Please enable removing language code from the...           1\n",
       "1  663_4  \"Note: in your .csproj file, there is a Suppor...           0\n",
       "2  664_1  \"Wich means the new version not fully replaced...           0\n",
       "3  664_2  \"Some of my users will still receive the old x...           0\n",
       "4  664_3  \"The store randomly gives the old xap or the n...           0"
      ]
     },
     "execution_count": 10,
     "metadata": {},
     "output_type": "execute_result"
    }
   ],
   "source": [
    "# Use pandas to read csv file\n",
    "train_data = pd.read_csv('data/V1.4_Training.csv', names= ['id', 'sentence', 'prediction'])\n",
    "train_data.head()"
   ]
  },
  {
   "cell_type": "markdown",
   "metadata": {},
   "source": [
    "Function to findout the most frequent terms in the given data"
   ]
  },
  {
   "cell_type": "code",
   "execution_count": 11,
   "metadata": {},
   "outputs": [],
   "source": [
    "# Function to plot most frequent terms\n",
    "def freq_words(x):\n",
    "    all_words = ' '.join([text for text in x])\n",
    "    all_words = all_words.split()\n",
    "\n",
    "    fdist = FreqDist(all_words)\n",
    "    words_df = pd.DataFrame({'word':list(fdist.keys()), 'count':list(fdist.values())})\n",
    "\n",
    "    # Select top 20 most frequent words\n",
    "    d = words_df.nlargest(columns=\"count\", n = 20) \n",
    "    plt.figure(figsize=(20,5))\n",
    "    ax = sns.barplot(data=d, x= \"word\", y = \"count\")\n",
    "    ax.set(ylabel = 'Count')\n",
    "    plt.show()"
   ]
  },
  {
   "cell_type": "markdown",
   "metadata": {},
   "source": [
    "Plot the most frequently used terms"
   ]
  },
  {
   "cell_type": "code",
   "execution_count": 12,
   "metadata": {},
   "outputs": [
    {
     "data": {
      "image/png": "[encoded data removed]",
      "text/plain": [
       "<Figure size 1440x360 with 1 Axes>"
      ]
     },
     "metadata": {},
     "output_type": "display_data"
    }
   ],
   "source": [
    "freq_words(train_data['sentence'])"
   ]
  },
  {
   "cell_type": "markdown",
   "metadata": {},
   "source": [
    "<b>We can see that the most frequently used words are some useless terms which are called the stop words.</b>"
   ]
  },
  {
   "cell_type": "markdown",
   "metadata": {},
   "source": [
    "Define unwanted symbols and stop words"
   ]
  },
  {
   "cell_type": "code",
   "execution_count": 13,
   "metadata": {},
   "outputs": [],
   "source": [
    "# Define unwanted characters, numbers and symbols\n",
    "rep_sym = re.compile('[/(){}\\[\\]\\|@,;]')\n",
    "rep_unw_sym = re.compile('[^0-9a-z #+_]')\n",
    "stop_words = set(stopwords.words('english'))\n",
    "\n",
    "train_data['sentence'] = train_data['sentence'].str.replace(\"[^a-zA-Z#]\", \" \")"
   ]
  },
  {
   "cell_type": "markdown",
   "metadata": {},
   "source": [
    "Function to clean the text: ( Make the text to lower case, Remove Unwanted Symbols, Remove stop words )"
   ]
  },
  {
   "cell_type": "code",
   "execution_count": 14,
   "metadata": {},
   "outputs": [],
   "source": [
    "# Function to clean text\n",
    "def clean_text(text):\n",
    "    \n",
    "    # Change all text to lower to avoid ambiguity\n",
    "    text = text.lower()\n",
    "    \n",
    "    # Replace all unwanted symbols by space in text\n",
    "    text = rep_sym.sub(' ', text) \n",
    "    text = rep_unw_sym.sub('', text)\n",
    "    \n",
    "    # Remove stopwords from the sentences\n",
    "    text = ' '.join(word for word in text.split() if word not in stop_words)\n",
    "    return text"
   ]
  },
  {
   "cell_type": "markdown",
   "metadata": {},
   "source": [
    "Clean the text in the training data"
   ]
  },
  {
   "cell_type": "code",
   "execution_count": 15,
   "metadata": {},
   "outputs": [
    {
     "data": {
      "text/plain": [
       "86076"
      ]
     },
     "execution_count": 15,
     "metadata": {},
     "output_type": "execute_result"
    }
   ],
   "source": [
    "train_data['sentence'] = train_data['sentence'].apply(clean_text)\n",
    "\n",
    "# The total number of effective words which we will train the model on\n",
    "train_data['sentence'].apply(lambda x: len(x.split(' '))).sum()"
   ]
  },
  {
   "cell_type": "markdown",
   "metadata": {},
   "source": [
    "## Train different models for prediction"
   ]
  },
  {
   "cell_type": "markdown",
   "metadata": {},
   "source": [
    "Import the required libraries for training the model and evaluating it"
   ]
  },
  {
   "cell_type": "code",
   "execution_count": 17,
   "metadata": {},
   "outputs": [],
   "source": [
    "# Library to split the training data to train and test data\n",
    "from sklearn.model_selection import train_test_split\n",
    "\n",
    "# Library to convert the text into a matrix of TF-IDF and token count.\n",
    "from sklearn.feature_extraction.text import TfidfTransformer\n",
    "from sklearn.feature_extraction.text import CountVectorizer\n",
    "\n",
    "# Library to apply a pipeline of functions\n",
    "from sklearn.pipeline import Pipeline\n",
    "\n",
    "# Libraries to perform Learning on the data\n",
    "from sklearn.naive_bayes import MultinomialNB\n",
    "from sklearn.linear_model import SGDClassifier\n",
    "from sklearn.linear_model import LogisticRegression\n",
    "from sklearn.ensemble import RandomForestClassifier\n",
    "\n",
    "# Library to evaluate the model predictions\n",
    "from sklearn.metrics import classification_report\n",
    "from sklearn.metrics import accuracy_score, confusion_matrix"
   ]
  },
  {
   "cell_type": "markdown",
   "metadata": {},
   "source": [
    "Split the training data to 75:25 ratio of train and test data"
   ]
  },
  {
   "cell_type": "code",
   "execution_count": 18,
   "metadata": {},
   "outputs": [],
   "source": [
    "X_train, X_test, y_train, y_test = train_test_split(train_data.sentence,\n",
    "                                                    train_data.prediction,\n",
    "                                                    test_size=0.25,\n",
    "                                                    random_state = 42)\n",
    "# Random state to pick data randomly into train and test data (Can take any value)"
   ]
  },
  {
   "cell_type": "markdown",
   "metadata": {},
   "source": [
    "<b>Train a Naïve Bayes Model on training data</b>\n",
    "\n",
    "Pipeline of activities to first create a matrix with TF-IDF and count token values and later create a Naïve Bayes model based on it."
   ]
  },
  {
   "cell_type": "code",
   "execution_count": 19,
   "metadata": {},
   "outputs": [
    {
     "name": "stdout",
     "output_type": "stream",
     "text": [
      "accuracy 0.7698823529411765\n",
      "             precision    recall  f1-score   support\n",
      "\n",
      "          0       0.77      0.99      0.87      1617\n",
      "          1       0.76      0.06      0.10       508\n",
      "\n",
      "avg / total       0.77      0.77      0.69      2125\n",
      "\n"
     ]
    }
   ],
   "source": [
    "# Create the pipeline\n",
    "nb = Pipeline([('vect', CountVectorizer()),\n",
    "               ('tfidf', TfidfTransformer()),\n",
    "               ('clf', MultinomialNB())])\n",
    "\n",
    "# Fit the training data on the model\n",
    "nb.fit(X_train, y_train)\n",
    "\n",
    "# Predict the labels for the test data split using train test split\n",
    "y_pred = nb.predict(X_test)         \n",
    "\n",
    "# Evaluate the results\n",
    "print('accuracy %s' % accuracy_score(y_pred, y_test))\n",
    "print(classification_report(y_test, y_pred))"
   ]
  },
  {
   "cell_type": "markdown",
   "metadata": {},
   "source": [
    "<b> We have obtained an accuracy of 77% </b>"
   ]
  },
  {
   "cell_type": "markdown",
   "metadata": {},
   "source": [
    "<b>Train a Linear Support Vector Machine Model on training data</b>\n",
    "\n",
    "Pipeline of activities to first create a matrix with TF-IDF and count token values and later create a Linear Support Vector Machine model based on it."
   ]
  },
  {
   "cell_type": "code",
   "execution_count": 20,
   "metadata": {},
   "outputs": [
    {
     "name": "stdout",
     "output_type": "stream",
     "text": [
      "accuracy 0.8004705882352942\n",
      "             precision    recall  f1-score   support\n",
      "\n",
      "          0       0.80      0.99      0.88      1617\n",
      "          1       0.83      0.21      0.33       508\n",
      "\n",
      "avg / total       0.81      0.80      0.75      2125\n",
      "\n"
     ]
    }
   ],
   "source": [
    "# Create the pipeline\n",
    "sgd = Pipeline([('vect', CountVectorizer()),\n",
    "                ('tfidf', TfidfTransformer()),\n",
    "                ('clf', SGDClassifier(loss='hinge', penalty='l2',alpha=1e-3, random_state=42, max_iter=5, tol=None))])\n",
    "\n",
    "\n",
    "# Fit the training data on the model\n",
    "sgd.fit(X_train, y_train)\n",
    "\n",
    "# Predict the labels for the test data split using train test split\n",
    "y_pred = sgd.predict(X_test)\n",
    "\n",
    "# Evaluate the results\n",
    "print('accuracy %s' % accuracy_score(y_pred, y_test))\n",
    "print(classification_report(y_test, y_pred))"
   ]
  },
  {
   "cell_type": "markdown",
   "metadata": {},
   "source": [
    "<b> We have obtained an accuracy of 80% </b>"
   ]
  },
  {
   "cell_type": "markdown",
   "metadata": {},
   "source": [
    "<b>Train a Logistic Regression Model on training data</b>\n",
    "\n",
    "Pipeline of activities to first create a matrix with TF-IDF and count token values and later create a Logistic Regression model based on it."
   ]
  },
  {
   "cell_type": "code",
   "execution_count": 21,
   "metadata": {},
   "outputs": [
    {
     "name": "stdout",
     "output_type": "stream",
     "text": [
      "accuracy 0.7830588235294118\n",
      "             precision    recall  f1-score   support\n",
      "\n",
      "          0       0.85      0.87      0.86      1617\n",
      "          1       0.55      0.51      0.53       508\n",
      "\n",
      "avg / total       0.78      0.78      0.78      2125\n",
      "\n"
     ]
    }
   ],
   "source": [
    "# Create the pipeline\n",
    "logreg = Pipeline([('vect', CountVectorizer()),\n",
    "                ('tfidf', TfidfTransformer()),\n",
    "                ('clf', LogisticRegression(n_jobs=1, C=1e5))])\n",
    "\n",
    "# Fit the training data on the model\n",
    "logreg.fit(X_train, y_train)\n",
    "\n",
    "# Predict the labels for the test data split using train test split\n",
    "y_pred = logreg.predict(X_test)\n",
    "\n",
    "# Evaluate the results\n",
    "print('accuracy %s' % accuracy_score(y_pred, y_test))\n",
    "print(classification_report(y_test, y_pred))"
   ]
  },
  {
   "cell_type": "markdown",
   "metadata": {},
   "source": [
    "<b> We have obtained an accuracy of 78.3% </b>"
   ]
  },
  {
   "cell_type": "markdown",
   "metadata": {},
   "source": [
    "<b>Train a Random Forest Classifier Model on training data</b>\n",
    "\n",
    "Pipeline of activities to first create a matrix with TF-IDF and count token values and later create a Random Forest Classifier model based on it."
   ]
  },
  {
   "cell_type": "code",
   "execution_count": 22,
   "metadata": {},
   "outputs": [
    {
     "name": "stdout",
     "output_type": "stream",
     "text": [
      "accuracy 0.8414117647058823\n",
      "             precision    recall  f1-score   support\n",
      "\n",
      "          0       0.85      0.96      0.90      1617\n",
      "          1       0.79      0.45      0.58       508\n",
      "\n",
      "avg / total       0.84      0.84      0.82      2125\n",
      "\n"
     ]
    }
   ],
   "source": [
    "# Create the pipeline\n",
    "rfc = Pipeline([('vect', CountVectorizer()),\n",
    "                ('tfidf', TfidfTransformer()),\n",
    "                ('clf', RandomForestClassifier(n_estimators=100))])\n",
    "\n",
    "# Fit the training data on the model\n",
    "rfc.fit(X_train, y_train)\n",
    "\n",
    "# Predict the labels for the test data split using train test split\n",
    "y_pred = rfc.predict(X_test)\n",
    "\n",
    "# Evaluate the results\n",
    "print('accuracy %s' % accuracy_score(y_pred, y_test))\n",
    "print(classification_report(y_test, y_pred))"
   ]
  },
  {
   "cell_type": "markdown",
   "metadata": {},
   "source": [
    "<b> We have obtained an accuracy of 84% </b>"
   ]
  },
  {
   "cell_type": "markdown",
   "metadata": {},
   "source": [
    "We can see that our Random Forest Classifier Model gives better results"
   ]
  },
  {
   "cell_type": "markdown",
   "metadata": {},
   "source": [
    "Import the test data"
   ]
  },
  {
   "cell_type": "code",
   "execution_count": 23,
   "metadata": {},
   "outputs": [],
   "source": [
    "# The test data needs a 'ISO-8859-1' encoding\n",
    "label_test_train = pd.read_csv('data/SubtaskA_Trial_Test_Labeled.csv',encoding = \"ISO-8859-1\",names = ['id', 'sentence', 'prediction'], skiprows = 1)\n",
    "unlab_test_train = pd.read_csv('data/SubtaskA_Trial_Test.csv',names = ['id', 'sentence', 'prediction'])"
   ]
  },
  {
   "cell_type": "code",
   "execution_count": 24,
   "metadata": {},
   "outputs": [
    {
     "data": {
      "text/html": [
       "<div>\n",
       "<style scoped>\n",
       "    .dataframe tbody tr th:only-of-type {\n",
       "        vertical-align: middle;\n",
       "    }\n",
       "\n",
       "    .dataframe tbody tr th {\n",
       "        vertical-align: top;\n",
       "    }\n",
       "\n",
       "    .dataframe thead th {\n",
       "        text-align: right;\n",
       "    }\n",
       "</style>\n",
       "<table border=\"1\" class=\"dataframe\">\n",
       "  <thead>\n",
       "    <tr style=\"text-align: right;\">\n",
       "      <th></th>\n",
       "      <th>id</th>\n",
       "      <th>sentence</th>\n",
       "      <th>prediction</th>\n",
       "    </tr>\n",
       "  </thead>\n",
       "  <tbody>\n",
       "    <tr>\n",
       "      <th>0</th>\n",
       "      <td>13101</td>\n",
       "      <td>\"I'm not asking Microsoft to Gives permission ...</td>\n",
       "      <td>X</td>\n",
       "    </tr>\n",
       "    <tr>\n",
       "      <th>1</th>\n",
       "      <td>13121</td>\n",
       "      <td>\"somewhere between Android and iPhone.\"</td>\n",
       "      <td>X</td>\n",
       "    </tr>\n",
       "    <tr>\n",
       "      <th>2</th>\n",
       "      <td>13131</td>\n",
       "      <td>\"And in the Windows Store you can flag the App...</td>\n",
       "      <td>X</td>\n",
       "    </tr>\n",
       "    <tr>\n",
       "      <th>3</th>\n",
       "      <td>13132</td>\n",
       "      <td>\"Many thanks Sameh Hi, As we know, there is a ...</td>\n",
       "      <td>X</td>\n",
       "    </tr>\n",
       "    <tr>\n",
       "      <th>4</th>\n",
       "      <td>13133</td>\n",
       "      <td>\"The idea is that we can develop a regular app...</td>\n",
       "      <td>X</td>\n",
       "    </tr>\n",
       "  </tbody>\n",
       "</table>\n",
       "</div>"
      ],
      "text/plain": [
       "      id                                           sentence prediction\n",
       "0  13101  \"I'm not asking Microsoft to Gives permission ...          X\n",
       "1  13121            \"somewhere between Android and iPhone.\"          X\n",
       "2  13131  \"And in the Windows Store you can flag the App...          X\n",
       "3  13132  \"Many thanks Sameh Hi, As we know, there is a ...          X\n",
       "4  13133  \"The idea is that we can develop a regular app...          X"
      ]
     },
     "execution_count": 24,
     "metadata": {},
     "output_type": "execute_result"
    }
   ],
   "source": [
    "# Understand the test data\n",
    "unlab_test_train.head()"
   ]
  },
  {
   "cell_type": "markdown",
   "metadata": {},
   "source": [
    "Clean the test data as we need the test data to be in the same format as the train data"
   ]
  },
  {
   "cell_type": "code",
   "execution_count": 25,
   "metadata": {},
   "outputs": [],
   "source": [
    "unlab_test_train['sentence'] = unlab_test_train['sentence'].apply(clean_text)"
   ]
  },
  {
   "cell_type": "markdown",
   "metadata": {},
   "source": [
    "<b> Verify the results over different models trained </b>"
   ]
  },
  {
   "cell_type": "markdown",
   "metadata": {},
   "source": [
    "<b>Predicting the results over Random Forest Classifier</b>"
   ]
  },
  {
   "cell_type": "code",
   "execution_count": 26,
   "metadata": {},
   "outputs": [
    {
     "name": "stdout",
     "output_type": "stream",
     "text": [
      "accuracy 0.6486486486486487\n",
      "             precision    recall  f1-score   support\n",
      "\n",
      "          0       0.60      0.92      0.72       296\n",
      "          1       0.83      0.38      0.52       296\n",
      "\n",
      "avg / total       0.71      0.65      0.62       592\n",
      "\n"
     ]
    }
   ],
   "source": [
    "# Use Random Forest Classifier model to predict the labels for test data\n",
    "y_pred = rfc.predict(unlab_test_train.sentence)\n",
    "\n",
    "# Evaluate the results obtained\n",
    "print('accuracy %s' % accuracy_score(y_pred, label_test_train.prediction))\n",
    "print(classification_report(label_test_train.prediction, y_pred))"
   ]
  },
  {
   "cell_type": "markdown",
   "metadata": {},
   "source": [
    "<b> We have obtained an accuracy of 65% </b>"
   ]
  },
  {
   "cell_type": "markdown",
   "metadata": {},
   "source": [
    "<b>Predicting the results over Linear Support Vector Machine</b>"
   ]
  },
  {
   "cell_type": "code",
   "execution_count": 27,
   "metadata": {},
   "outputs": [
    {
     "name": "stdout",
     "output_type": "stream",
     "text": [
      "accuracy 0.5557432432432432\n",
      "             precision    recall  f1-score   support\n",
      "\n",
      "          0       0.53      0.97      0.69       296\n",
      "          1       0.84      0.14      0.24       296\n",
      "\n",
      "avg / total       0.68      0.56      0.46       592\n",
      "\n"
     ]
    }
   ],
   "source": [
    "# Use Linear Support Vector Machine model to predict the labels for test data\n",
    "y_pred = sgd.predict(unlab_test_train.sentence)\n",
    "\n",
    "# Evaluate the results obtained\n",
    "print('accuracy %s' % accuracy_score(y_pred, label_test_train.prediction))\n",
    "print(classification_report(label_test_train.prediction, y_pred))"
   ]
  },
  {
   "cell_type": "markdown",
   "metadata": {},
   "source": [
    "<b> We have obtained an accuracy of 55.6% </b>"
   ]
  },
  {
   "cell_type": "markdown",
   "metadata": {},
   "source": [
    "<b>Predicting the results over Naïve Bayes</b>"
   ]
  },
  {
   "cell_type": "code",
   "execution_count": 28,
   "metadata": {},
   "outputs": [
    {
     "name": "stdout",
     "output_type": "stream",
     "text": [
      "accuracy 0.5084459459459459\n",
      "             precision    recall  f1-score   support\n",
      "\n",
      "          0       0.50      1.00      0.67       296\n",
      "          1       1.00      0.02      0.03       296\n",
      "\n",
      "avg / total       0.75      0.51      0.35       592\n",
      "\n"
     ]
    }
   ],
   "source": [
    "# Use Naïve Bayes model to predict the labels for test data\n",
    "y_pred = nb.predict(unlab_test_train.sentence)         \n",
    "\n",
    "# Evaluate the results obtained\n",
    "print('accuracy %s' % accuracy_score(y_pred, label_test_train.prediction))\n",
    "print(classification_report(label_test_train.prediction, y_pred))"
   ]
  },
  {
   "cell_type": "markdown",
   "metadata": {},
   "source": [
    "<b> We have obtained an accuracy of 50.5% </b>"
   ]
  },
  {
   "cell_type": "markdown",
   "metadata": {},
   "source": [
    "<b>Predicting the results over Logistic Regression</b>"
   ]
  },
  {
   "cell_type": "code",
   "execution_count": 29,
   "metadata": {},
   "outputs": [
    {
     "name": "stdout",
     "output_type": "stream",
     "text": [
      "accuracy 0.5726351351351351\n",
      "             precision    recall  f1-score   support\n",
      "\n",
      "          0       0.55      0.78      0.65       296\n",
      "          1       0.62      0.36      0.46       296\n",
      "\n",
      "avg / total       0.59      0.57      0.55       592\n",
      "\n"
     ]
    }
   ],
   "source": [
    "# Use Logistic Regression model to predict the labels for test data\n",
    "y_pred = logreg.predict(unlab_test_train.sentence)\n",
    "\n",
    "# Evaluate the results obtained\n",
    "print('accuracy %s' % accuracy_score(y_pred, label_test_train.prediction))\n",
    "print(classification_report(label_test_train.prediction, y_pred))"
   ]
  },
  {
   "cell_type": "markdown",
   "metadata": {},
   "source": [
    "<b> We have obtained an accuracy of 57.3% </b>"
   ]
  },
  {
   "cell_type": "markdown",
   "metadata": {},
   "source": [
    "We see that Random Forest Classifier model still performs better than the rest. So we use this model for the final prediction."
   ]
  },
  {
   "cell_type": "markdown",
   "metadata": {},
   "source": [
    "## Predict over the Evaluation test data"
   ]
  },
  {
   "cell_type": "markdown",
   "metadata": {},
   "source": [
    "Import the final test data for which labels has to be predicted"
   ]
  },
  {
   "cell_type": "code",
   "execution_count": 30,
   "metadata": {},
   "outputs": [
    {
     "data": {
      "text/html": [
       "<div>\n",
       "<style scoped>\n",
       "    .dataframe tbody tr th:only-of-type {\n",
       "        vertical-align: middle;\n",
       "    }\n",
       "\n",
       "    .dataframe tbody tr th {\n",
       "        vertical-align: top;\n",
       "    }\n",
       "\n",
       "    .dataframe thead th {\n",
       "        text-align: right;\n",
       "    }\n",
       "</style>\n",
       "<table border=\"1\" class=\"dataframe\">\n",
       "  <thead>\n",
       "    <tr style=\"text-align: right;\">\n",
       "      <th></th>\n",
       "      <th>id</th>\n",
       "      <th>sentence</th>\n",
       "      <th>prediction</th>\n",
       "    </tr>\n",
       "  </thead>\n",
       "  <tbody>\n",
       "    <tr>\n",
       "      <th>0</th>\n",
       "      <td>9566</td>\n",
       "      <td>This would enable live traffic aware apps.</td>\n",
       "      <td>X</td>\n",
       "    </tr>\n",
       "    <tr>\n",
       "      <th>1</th>\n",
       "      <td>9569</td>\n",
       "      <td>Please try other formatting like bold italics ...</td>\n",
       "      <td>X</td>\n",
       "    </tr>\n",
       "    <tr>\n",
       "      <th>2</th>\n",
       "      <td>9576</td>\n",
       "      <td>Since computers were invented to save time I s...</td>\n",
       "      <td>X</td>\n",
       "    </tr>\n",
       "    <tr>\n",
       "      <th>3</th>\n",
       "      <td>9577</td>\n",
       "      <td>Allow rearranging if the user wants to change ...</td>\n",
       "      <td>X</td>\n",
       "    </tr>\n",
       "    <tr>\n",
       "      <th>4</th>\n",
       "      <td>9579</td>\n",
       "      <td>Add SIMD instructions for better use of ARM NE...</td>\n",
       "      <td>X</td>\n",
       "    </tr>\n",
       "  </tbody>\n",
       "</table>\n",
       "</div>"
      ],
      "text/plain": [
       "     id                                           sentence prediction\n",
       "0  9566         This would enable live traffic aware apps.          X\n",
       "1  9569  Please try other formatting like bold italics ...          X\n",
       "2  9576  Since computers were invented to save time I s...          X\n",
       "3  9577  Allow rearranging if the user wants to change ...          X\n",
       "4  9579  Add SIMD instructions for better use of ARM NE...          X"
      ]
     },
     "execution_count": 30,
     "metadata": {},
     "output_type": "execute_result"
    }
   ],
   "source": [
    "# Import the final test data to predict the labels\n",
    "evaluation_data = pd.read_csv('data/SubtaskA_EvaluationData.csv', names = ['id', 'sentence', 'prediction'])\n",
    "evaluation_data.head()"
   ]
  },
  {
   "cell_type": "markdown",
   "metadata": {},
   "source": [
    "Predict the labels using Random Forest Classifier model trained before"
   ]
  },
  {
   "cell_type": "code",
   "execution_count": 31,
   "metadata": {},
   "outputs": [
    {
     "data": {
      "text/html": [
       "<div>\n",
       "<style scoped>\n",
       "    .dataframe tbody tr th:only-of-type {\n",
       "        vertical-align: middle;\n",
       "    }\n",
       "\n",
       "    .dataframe tbody tr th {\n",
       "        vertical-align: top;\n",
       "    }\n",
       "\n",
       "    .dataframe thead th {\n",
       "        text-align: right;\n",
       "    }\n",
       "</style>\n",
       "<table border=\"1\" class=\"dataframe\">\n",
       "  <thead>\n",
       "    <tr style=\"text-align: right;\">\n",
       "      <th></th>\n",
       "      <th>id</th>\n",
       "      <th>sentence</th>\n",
       "      <th>prediction</th>\n",
       "    </tr>\n",
       "  </thead>\n",
       "  <tbody>\n",
       "    <tr>\n",
       "      <th>757</th>\n",
       "      <td>6084</td>\n",
       "      <td>I think its a bug.</td>\n",
       "      <td>0</td>\n",
       "    </tr>\n",
       "    <tr>\n",
       "      <th>647</th>\n",
       "      <td>5730</td>\n",
       "      <td>The first problem that we encountred is that i...</td>\n",
       "      <td>0</td>\n",
       "    </tr>\n",
       "    <tr>\n",
       "      <th>44</th>\n",
       "      <td>10297</td>\n",
       "      <td>I would be a really nice gesture to have an op...</td>\n",
       "      <td>1</td>\n",
       "    </tr>\n",
       "    <tr>\n",
       "      <th>803</th>\n",
       "      <td>6233</td>\n",
       "      <td>Other strange differences did show up as well ...</td>\n",
       "      <td>0</td>\n",
       "    </tr>\n",
       "    <tr>\n",
       "      <th>589</th>\n",
       "      <td>5562</td>\n",
       "      <td>This is a big drawback.</td>\n",
       "      <td>0</td>\n",
       "    </tr>\n",
       "    <tr>\n",
       "      <th>674</th>\n",
       "      <td>5780</td>\n",
       "      <td>This solution is quite hacky and a lot of work</td>\n",
       "      <td>0</td>\n",
       "    </tr>\n",
       "    <tr>\n",
       "      <th>641</th>\n",
       "      <td>5716</td>\n",
       "      <td>More like angularJs style.</td>\n",
       "      <td>0</td>\n",
       "    </tr>\n",
       "    <tr>\n",
       "      <th>816</th>\n",
       "      <td>6291</td>\n",
       "      <td>In Silverlight it was once possible to registe...</td>\n",
       "      <td>0</td>\n",
       "    </tr>\n",
       "    <tr>\n",
       "      <th>272</th>\n",
       "      <td>4711</td>\n",
       "      <td>But it has no similar property on UWP's api.</td>\n",
       "      <td>0</td>\n",
       "    </tr>\n",
       "    <tr>\n",
       "      <th>233</th>\n",
       "      <td>4608</td>\n",
       "      <td>*At this point a perpetrator is able to take t...</td>\n",
       "      <td>0</td>\n",
       "    </tr>\n",
       "    <tr>\n",
       "      <th>769</th>\n",
       "      <td>6123</td>\n",
       "      <td>If you are careless during signup you are stuc...</td>\n",
       "      <td>0</td>\n",
       "    </tr>\n",
       "    <tr>\n",
       "      <th>274</th>\n",
       "      <td>4714</td>\n",
       "      <td>Currently there is no way to attach debugger t...</td>\n",
       "      <td>0</td>\n",
       "    </tr>\n",
       "    <tr>\n",
       "      <th>352</th>\n",
       "      <td>4958</td>\n",
       "      <td>As simple as ClickOnce publishing.</td>\n",
       "      <td>0</td>\n",
       "    </tr>\n",
       "    <tr>\n",
       "      <th>329</th>\n",
       "      <td>4883</td>\n",
       "      <td>We do like to build universal Windows apps.</td>\n",
       "      <td>0</td>\n",
       "    </tr>\n",
       "    <tr>\n",
       "      <th>164</th>\n",
       "      <td>3964</td>\n",
       "      <td>We currently have a store app that works with ...</td>\n",
       "      <td>0</td>\n",
       "    </tr>\n",
       "    <tr>\n",
       "      <th>509</th>\n",
       "      <td>5298</td>\n",
       "      <td>Thank you very much.</td>\n",
       "      <td>0</td>\n",
       "    </tr>\n",
       "    <tr>\n",
       "      <th>293</th>\n",
       "      <td>4776</td>\n",
       "      <td>I found that PhoneTriggerType enum includes us...</td>\n",
       "      <td>0</td>\n",
       "    </tr>\n",
       "    <tr>\n",
       "      <th>326</th>\n",
       "      <td>4876</td>\n",
       "      <td>In the mini mode the app only presents the ind...</td>\n",
       "      <td>0</td>\n",
       "    </tr>\n",
       "    <tr>\n",
       "      <th>51</th>\n",
       "      <td>10494</td>\n",
       "      <td>Apps should take no longer than 2-3 seconds to...</td>\n",
       "      <td>0</td>\n",
       "    </tr>\n",
       "    <tr>\n",
       "      <th>510</th>\n",
       "      <td>5308</td>\n",
       "      <td>I currently use the CodedUI testing framework ...</td>\n",
       "      <td>0</td>\n",
       "    </tr>\n",
       "  </tbody>\n",
       "</table>\n",
       "</div>"
      ],
      "text/plain": [
       "        id                                           sentence prediction\n",
       "757   6084                                 I think its a bug.          0\n",
       "647   5730  The first problem that we encountred is that i...          0\n",
       "44   10297  I would be a really nice gesture to have an op...          1\n",
       "803   6233  Other strange differences did show up as well ...          0\n",
       "589   5562                            This is a big drawback.          0\n",
       "674   5780     This solution is quite hacky and a lot of work          0\n",
       "641   5716                         More like angularJs style.          0\n",
       "816   6291  In Silverlight it was once possible to registe...          0\n",
       "272   4711       But it has no similar property on UWP's api.          0\n",
       "233   4608  *At this point a perpetrator is able to take t...          0\n",
       "769   6123  If you are careless during signup you are stuc...          0\n",
       "274   4714  Currently there is no way to attach debugger t...          0\n",
       "352   4958                 As simple as ClickOnce publishing.          0\n",
       "329   4883        We do like to build universal Windows apps.          0\n",
       "164   3964  We currently have a store app that works with ...          0\n",
       "509   5298                               Thank you very much.          0\n",
       "293   4776  I found that PhoneTriggerType enum includes us...          0\n",
       "326   4876  In the mini mode the app only presents the ind...          0\n",
       "51   10494  Apps should take no longer than 2-3 seconds to...          0\n",
       "510   5308  I currently use the CodedUI testing framework ...          0"
      ]
     },
     "execution_count": 31,
     "metadata": {},
     "output_type": "execute_result"
    }
   ],
   "source": [
    "# Predict labels using Random Forest Classifier model\n",
    "y_pred = rfc.predict(evaluation_data.sentence)\n",
    "\n",
    "# Set the value of label in place of X in data frame\n",
    "for index in range(evaluation_data.shape[0]):\n",
    "    evaluation_data.at[index, 'prediction'] = y_pred[index]\n",
    "    \n",
    "# Sample 20 random entries from the data frame\n",
    "evaluation_data.sample(20)"
   ]
  },
  {
   "cell_type": "markdown",
   "metadata": {},
   "source": [
    "Save the data to .csv file"
   ]
  },
  {
   "cell_type": "code",
   "execution_count": 32,
   "metadata": {},
   "outputs": [],
   "source": [
    "# Save the data to .csv file and removing header and index\n",
    "evaluation_data.to_csv('hari_sai_raghuram_veeramallu.csv', sep=',', header = None, index = False)"
   ]
  }
 ],
 "metadata": {
  "kernelspec": {
   "display_name": "Python 3",
   "language": "python",
   "name": "python3"
  },
  "language_info": {
   "codemirror_mode": {
    "name": "ipython",
    "version": 3
   },
   "file_extension": ".py",
   "mimetype": "text/x-python",
   "name": "python",
   "nbconvert_exporter": "python",
   "pygments_lexer": "ipython3",
   "version": "3.6.4"
  }
 },
 "nbformat": 4,
 "nbformat_minor": 2
}
